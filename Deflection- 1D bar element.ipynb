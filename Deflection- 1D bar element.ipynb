{
 "cells": [
  {
   "cell_type": "markdown",
   "metadata": {},
   "source": [
    "## Deflection in a 1-dimensional bar using elimination method\n"
   ]
  },
  {
   "cell_type": "code",
   "execution_count": 77,
   "metadata": {},
   "outputs": [],
   "source": [
    "#importing of libs\n",
    "import matplotlib.pyplot as plt\n",
    "import numpy as np"
   ]
  },
  {
   "cell_type": "code",
   "execution_count": 78,
   "metadata": {},
   "outputs": [
    {
     "name": "stdout",
     "output_type": "stream",
     "text": [
      "areas = [0.01 0.01 0.01 0.01 0.01]\n",
      "young's modulus = [2.e+11 2.e+11 2.e+11 2.e+11 2.e+11]\n"
     ]
    }
   ],
   "source": [
    "n_e = 5 #number of elements\n",
    "E = np.zeros(n_e) #local young's modulus\n",
    "A = np.zeros(n_e) #areas of each element\n",
    "l = 1 #length of domain\n",
    "l_e = l/n_e #length of each element assuming uniform elements\n",
    "\n",
    "i = 0\n",
    "while i < n_e: #initialize young's modulus array\n",
    "    E[i] = E[i] + (200*(10**9))\n",
    "    i += 1\n",
    "i = 0\n",
    "\n",
    "while i < n_e: #initialize area array\n",
    "    A[i] = A[i] + (0.1*0.1)\n",
    "    i += 1\n",
    "\n",
    "print(\"areas =\", A)\n",
    "print(\"young's modulus =\", E)\n"
   ]
  },
  {
   "cell_type": "code",
   "execution_count": 90,
   "metadata": {},
   "outputs": [],
   "source": [
    "#initialize forces and displacement vectors\n",
    "q = np.zeros(n_e)\n",
    "\n",
    "#initialize boundary conditions\n",
    "i = 0\n",
    "while i < n_e:\n",
    "    if i != 0:\n",
    "        if i != 4:\n",
    "            q[i] = q[i] -10000000 #assign dummy displacement\n",
    "    i += 1\n",
    "\n",
    "F = np.zeros(n_e+1)\n",
    "F[3] = 30*(10**3)\n"
   ]
  },
  {
   "cell_type": "code",
   "execution_count": 91,
   "metadata": {},
   "outputs": [
    {
     "data": {
      "text/plain": [
       "<matplotlib.image.AxesImage at 0x15dfbb159b0>"
      ]
     },
     "execution_count": 91,
     "metadata": {},
     "output_type": "execute_result"
    },
    {
     "data": {
      "image/png": "[encoded data removed]",
      "text/plain": [
       "<Figure size 432x288 with 1 Axes>"
      ]
     },
     "metadata": {
      "needs_background": "light"
     },
     "output_type": "display_data"
    }
   ],
   "source": [
    "#evaluate local stiffness matrix\n",
    "s = (n_e,2,2)\n",
    "k = np.zeros(s)\n",
    "i = 0\n",
    "while i < n_e:\n",
    "    k[i][0][0] = -A[i]*E[i]/l_e\n",
    "    k[i][1][0] = A[i]*E[i]/l_e\n",
    "    k[i][0][1] = A[i]*E[i]/l_e\n",
    "    k[i][1][1] = -A[i]*E[i]/l_e\n",
    "    i+= 1\n",
    "s = (n_e+1,n_e+1)\n",
    "#create global stiffness matrix\n",
    "k_global = np.zeros(s)\n",
    "ele = 0\n",
    "while ele < n_e:\n",
    "    k_e = k[ele]\n",
    "    k_global[ele][ele] += k_e[0][0]\n",
    "    k_global[ele+1][ele] += k_e[1][0]\n",
    "    k_global[ele][ele+1] += k_e[0][1]\n",
    "    k_global[ele+1][ele+1] += k_e[1][1]\n",
    "    ele +=1\n",
    "plt.title(\"Banded matrix\")\n",
    "plt.imshow(k_global, cmap = 'hot')"
   ]
  },
  {
   "cell_type": "code",
   "execution_count": 94,
   "metadata": {},
   "outputs": [
    {
     "name": "stdout",
     "output_type": "stream",
     "text": [
      "[0, 4]\n",
      "[    0.     0. 30000.     0.]\n",
      "[-1.2e-06 -2.4e-06 -3.6e-06 -1.8e-06]\n"
     ]
    },
    {
     "data": {
      "image/png": "[encoded data removed]",
      "text/plain": [
       "<Figure size 432x288 with 1 Axes>"
      ]
     },
     "metadata": {
      "needs_background": "light"
     },
     "output_type": "display_data"
    }
   ],
   "source": [
    "#elimination method\n",
    "i = 0\n",
    "c = 0\n",
    "bd_rows = []\n",
    "k_glob_fin = k_global\n",
    "f_fin = F\n",
    "while i < n_e:\n",
    "    if q[i] == 0:\n",
    "        bd_rows.append(i)\n",
    "        f_fin = np.delete(f_fin, i , 0)\n",
    "        k_glob_fin = np.delete(k_glob_fin, i, 0)\n",
    "        k_glob_fin = np.delete(k_glob_fin, i, 1)\n",
    "    i += 1\n",
    "print(bd_rows)\n",
    "k_inv = np.linalg.inv(k_glob_fin)\n",
    "print(f_fin)\n",
    "plt.imshow(k_inv)\n",
    "q_new = np.dot(k_inv,f_fin)\n",
    "print(q_new)\n",
    "\n",
    "        \n",
    "        "
   ]
  },
  {
   "cell_type": "code",
   "execution_count": null,
   "metadata": {},
   "outputs": [],
   "source": []
  }
 ],
 "metadata": {
  "kernelspec": {
   "display_name": "Python 3",
   "language": "python",
   "name": "python3"
  },
  "language_info": {
   "codemirror_mode": {
    "name": "ipython",
    "version": 3
   },
   "file_extension": ".py",
   "mimetype": "text/x-python",
   "name": "python",
   "nbconvert_exporter": "python",
   "pygments_lexer": "ipython3",
   "version": "3.6.8"
  }
 },
 "nbformat": 4,
 "nbformat_minor": 2
}
