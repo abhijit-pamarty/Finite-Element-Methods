{
 "cells": [
  {
   "cell_type": "markdown",
   "id": "c2177318",
   "metadata": {},
   "source": [
    "# 1 Dimensional FDM for Longitudinal Vibrations"
   ]
  },
  {
   "cell_type": "markdown",
   "id": "3269f149",
   "metadata": {},
   "source": [
    "## A code for ME F319 Vibrations Project"
   ]
  },
  {
   "cell_type": "markdown",
   "id": "ae4fc82e",
   "metadata": {},
   "source": [
    "The equation of motion of a beam undergoing longitudinal vibrations is given by the following formula (Volterra, p. 310):\n",
    "\n",
    "$\\frac{c\\partial v(x,t)}{\\partial t}+EI\\frac{\\partial^4v(x,t)}{\\partial x^4}= -\\lambda_m\\frac{\\partial^2v(x,t)}{\\partial t^2}$\n",
    "\n",
    "where $v$ is the displacement in the longitudinal direction, $E$ is the young's modulus, $I$ is the bending moment of inertia, $c$ is the damping coefficient and $\\lambda_m$ is the mass per unit length.\n",
    "\n",
    "In the finite differences formulation, considering a single node, with a central difference derivative as  we can write $\\frac{\\partial^4v(x,t)}{\\partial x^4}$ as: \n",
    "\n",
    "$\\frac{\\partial^4v(x,t)}{\\partial x^4} = \\frac{v(x+2h)−4\\cdot v(x+h)+6\\cdot v(x)−4\\cdot v(x−h)+v(x−2h)}{h^4}$\n",
    "\n",
    "Assuming that v(x) corresponds to the $i^{th}$ node in space and $j^{th}$ node in time, we get the result of the following: \n",
    "\n",
    "$\\frac{\\partial^4v_{i,j}}{\\partial x^4} = \\frac{v_{i+2,j}−4 v_{i+1,j}+6 v_{i,j}-  4v_{i-1,j}+v_{i-2,j}}{l^4}$\n",
    "\n",
    "where $l$ is the length of an element, and $t$ is the timestep. For simplicity's sake, we shall assume a structured grid for this problem. For the time derivative, we shall assume a backward difference, as we assume that the vibrations are dependent only on the time history of the beam, and not all points in time. The LHS time derivative becomes the following:\n",
    "\n",
    "$\\frac{c\\partial v(x,t)}{\\partial t} = c \\frac{v_{i,j-2}−2 v_{i,j-1}+ v_{i,j}}{t^2}$\n",
    "\n",
    "Thus, the RHS of the equation then becomes, with the same convention as before:\n",
    "\n",
    "$\\frac{\\partial^2v_{i,j}}{\\partial t^2} = \\frac{v_{i,j-2}−2 v_{i,j-1}+ v_{i,j}}{t^2}$\n",
    "\n",
    "Equating the RHS and LHS of the given equations, we get the following overall equation:\n",
    "\n",
    "$EI\\frac{v_{i+2,j}−4 v_{i+1,j}+6 v_{i,j}-  4v_{i-1,j}+v_{i-2,j}}{l^4} = -\\lambda_m\\frac{v_{i,j-2}−2 v_{i,j-1}+ v_{i,j}}{t^2} - c \\frac{v_{i,j-2}−2 v_{i,j-1}+ v_{i,j}}{t^2} $ (or)\n",
    "\n",
    "${v_{i+2,j}−4 v_{i+1,j}+6 v_{i,j}-  4v_{i-1,j}+v_{i-2,j}} = -\\frac{\\lambda_m{l^4}}{{EI}}\\frac{v_{i,j-2}−2 v_{i,j-1}+ v_{i,j}}{t^2} - \\frac{c{l^4}}{EI} \\frac{v_{i,j-2}−2 v_{i,j-1}+ v_{i,j}}{t^2} $ (or)\n",
    "\n",
    "putting $\\frac{\\lambda_m{l^4}}{{EI}}$ as $a$, and $\\frac{c{l^4}}{EI}$ as $b$,\n",
    "\n",
    "${v_{i+2,j}−4 v_{i+1,j}+6 v_{i,j}-  4v_{i-1,j}+v_{i-2,j}} = -a\\frac{v_{i,j-2}−2 v_{i,j-1}+ v_{i,j}}{t^2} - b \\frac{v_{i,j-2}−2 v_{i,j-1}+ v_{i,j}}{t^2} $ (or)\n",
    "\n",
    "${v_{i+2,j}−4 v_{i+1,j}+6 v_{i,j}-  4v_{i-1,j}+v_{i-2,j}} = -a\\frac{v_{i,j-2}}{t^2}+2a \\frac{ v_{i,j-1}}{t^2}- a \\frac{v_{i,j}}{t^2} -  b \\frac{v_{i,j-2}}{t^2}+ 2b \\frac{v_{i,j-1}}{t^2} - b \\frac{v_{i,j}}{t^2}$ (or)\n",
    "\n",
    "$6 v_{i,j}+ a \\frac{v_{i,j}}{t^2}+ b \\frac{v_{i,j}}{t^2} = -a\\frac{v_{i,j-2}}{t^2}+2a \\frac{ v_{i,j-1}}{t^2} -  b \\frac{v_{i,j-2}}{t^2}+ 2b \\frac{v_{i,j-1}}{t^2}  - v_{i+2,j} +4 v_{i+1,j}+  4v_{i-1,j} -v_{i-2,j}$ (or)\n",
    "\n",
    "$v_{i,j}= \\frac{-a\\frac{v_{i,j-2}}{t^2}+2a \\frac{ v_{i,j-1}}{t^2} -  b \\frac{v_{i,j-2}}{t^2}+ 2b \\frac{v_{i,j-1}}{t^2}  - v_{i+2,j} +4 v_{i+1,j}+  4v_{i-1,j} -v_{i-2,j}}{6+\\frac{a}{t^2} +\\frac{b}{t^2}}$ \n",
    "\n",
    "\n",
    "This last equation is the explicit form of the nodal value $ v_{i,j} $, which allows us to directy find the displacement for any node at position $i$ at time instant $j$. Now we are ready to begin our one dimensional vibration FDM model.\n"
   ]
  },
  {
   "cell_type": "code",
   "execution_count": 1035,
   "id": "d577e672",
   "metadata": {},
   "outputs": [],
   "source": [
    "import numpy as np\n",
    "from IPython.display import clear_output\n",
    "import matplotlib.pyplot as plt\n",
    "from scipy import signal\n",
    "#import libraries"
   ]
  },
  {
   "cell_type": "code",
   "execution_count": 1392,
   "id": "b2b137fd",
   "metadata": {},
   "outputs": [],
   "source": [
    "\n",
    "\n",
    "############## SIM PARAMETERS ####################\n",
    "\n",
    "n_e = 100 #number of elements\n",
    "\n",
    "l = l_t/n_e #elemental size\n",
    "\n",
    "tstep = 0.0001 #timestep size\n",
    "\n",
    "total_t = 1 #total time\n",
    "\n",
    "\n",
    "##################################################\n",
    "\n",
    "\n",
    "############# BEAM PARAMETERS ####################\n",
    "\n",
    "l_t = 1 #total length of the beam in metres\n",
    "\n",
    "E = np.zeros(n_e) #young's modulus\n",
    "\n",
    "c = 5E10\n",
    "\n",
    "i = 0\n",
    "\n",
    "while i < n_e: ##set the young's modulus\n",
    "    if i < n_e/2:\n",
    "        \n",
    "        E[i] += 2E10\n",
    "        \n",
    "    else:\n",
    "        \n",
    "        E[i] += 2E10\n",
    "        \n",
    "    i+=1\n",
    "\n",
    "#we shall assume a rectangular cross section beam.\n",
    "\n",
    "b = 0.05 #breadth of the beam in meters\n",
    "h = 0.05 #height of the beam in meters\n",
    "\n",
    "I = b*h**3/12 #moment of inertia of the beam\n",
    "\n",
    "density = 7500 # volumetric density of the beam\n",
    "\n",
    "lambda_m = density*b*h #linear density of the beam\n",
    "\n",
    "i = 0\n",
    "\n",
    "a = np.zeros(n_e)\n",
    "\n",
    "b = np.zeros(n_e)\n",
    "\n",
    "while i < n_e:\n",
    "    \n",
    "    a[i] = (lambda_m*l**4)/(E[i]*I) #a as calculated earlier\n",
    "    \n",
    "    b[i] = (c*l**4)/(E[i]*I) #b as calculated earlier\n",
    "\n",
    "    i += 1\n",
    "##################################################\n",
    "\n",
    "\n",
    "\n",
    "\n",
    "############# DATA PARAMETERS ####################\n",
    "\n",
    "interested_node_index = int(n_e/2) #the node at which we are extracting the data\n",
    "\n",
    "data = np.zeros(int(total_t/tstep)) #the data storage variable\n",
    "\n",
    "t_array = np.arange(0,total_t,tstep, dtype = \"float\") #the array to store all the timesteps for plotting later\n",
    "\n",
    "##################################################\n",
    "\n",
    "\n",
    "\n",
    "######## BOUNDARY & INITIAL CONDITIONS ###########\n",
    "\n",
    "fixed_node_index = [0,n_e] #all fixed nodes\n",
    "\n",
    "initial_d = 0.2 #initial displacement\n",
    "\n",
    "displaced_node_index = [n_e - 1] #the displaced node\n",
    "\n",
    "##################################################\n",
    "\n",
    "\n",
    "########## FORCING FUNCTION PARAMETERS ###########\n",
    "\n",
    "force_flag = 1\n",
    "\n",
    "forcing_node = int(n_e-1)\n",
    "\n",
    "force_type = 1 #type of force, 1 is harmonic, 2 is constant\n",
    "\n",
    "frequency = 10 #frequency of forcing function in hertz\n",
    "\n",
    "max_force = 1\n",
    "\n",
    "equi_disp = max_force/(E[forcing_node]*I)\n",
    "\n",
    "omega = 2*3.14*frequency\n",
    "\n",
    "stop_force_flag = 0\n",
    "\n",
    "stop_force_t = 0.5\n",
    "\n",
    "if stop_force_flag == 0:\n",
    "    stop_force_t = total_t + 1\n",
    "\n",
    "##################################################\n",
    "\n"
   ]
  },
  {
   "cell_type": "code",
   "execution_count": 1393,
   "id": "7f5034ce",
   "metadata": {},
   "outputs": [],
   "source": [
    "#generate solution domain\n",
    "\n",
    "v_cur = np.zeros(n_e) #displacements at current time\n",
    "v_bef = np.zeros(n_e) #displacements at one timestep before\n",
    "v_bbef = np.zeros(n_e) #displacements at two timesteps before\n",
    "\n",
    "v_cur[displaced_node_index] = initial_d #give the beam the initial displacement\n",
    "\n",
    "t = 0 #current time\n"
   ]
  },
  {
   "cell_type": "code",
   "execution_count": 1394,
   "id": "4b03f1bb",
   "metadata": {},
   "outputs": [
    {
     "name": "stdout",
     "output_type": "stream",
     "text": [
      "0.9998999999999062\n"
     ]
    }
   ],
   "source": [
    "n = 0 #index for data\n",
    "while t <= total_t:\n",
    "    i = 0\n",
    "    if total_t/(t+0.0000001) - int(total_t/(t+0.0000001)) <= tstep*20:\n",
    "        print(t)\n",
    "        if total_t - t > tstep:\n",
    "            clear_output(wait=True)\n",
    "\n",
    "    if force_flag == 1: #give a force for the system\n",
    "        if t <= stop_force_t:\n",
    "            if force_type == 1: #harmonic force\n",
    "                v_cur[forcing_node] = v_cur[forcing_node] + equi_disp*np.sin(omega*t)*2.718\n",
    "                \n",
    "            if force_type == 2: #constant force, set time small for impulse\n",
    "                v_cur[forcing_node] = v_cur[forcing_node] + equi_disp \n",
    "                \n",
    "        \n",
    "       \n",
    "    while i < n_e: #update the displacements\n",
    "\n",
    "        if i not in fixed_node_index:\n",
    "            if i <= 1:\n",
    "                v_cur[i] = ((-(a[i]/(tstep**2)))*(v_bbef[i] - 2*v_bef[i]) + (-(b[i]/(tstep**2)))*(v_bbef[i] - 2*v_bef[i]) - v_cur[i+2] + 4*v_cur[i+1])/(6+((a[i]/(tstep**2))+((b[i]/(tstep**2)))))\n",
    "            elif i <= 2:\n",
    "                v_cur[i] = ((-(a[i]/(tstep**2)))*(v_bbef[i] - 2*v_bef[i]) + (-(b[i]/(tstep**2)))*(v_bbef[i] - 2*v_bef[i]) - v_cur[i+2] + 4*v_cur[i+1] + 4*v_cur[i-1])/(6+((a[i]/(tstep**2))+((b[i]/(tstep**2)))))\n",
    "            elif i >= n_e - 1:\n",
    "                v_cur[i] = ((-(a[i]/(tstep**2)))*(v_bbef[i] - 2*v_bef[i]) + (-(b[i]/(tstep**2)))*(v_bbef[i] - 2*v_bef[i]) + 4*v_cur[i-1] - v_cur[i-2])/(6+((a[i]/(tstep**2))+((b[i]/(tstep**2)))))\n",
    "            elif i >= n_e - 2:\n",
    "                v_cur[i] = ((-(a[i]/(tstep**2)))*(v_bbef[i] - 2*v_bef[i]) + (-(b[i]/(tstep**2)))*(v_bbef[i] - 2*v_bef[i]) + 4*v_cur[i+1] + 4*v_cur[i-1] - v_cur[i-2])/(6+((a[i]/(tstep**2))+((b[i]/(tstep**2)))))\n",
    "            else:\n",
    "                v_cur[i] = ((-(a[i]/(tstep**2)))*(v_bbef[i] - 2*v_bef[i]) + (-(b[i]/(tstep**2)))*(v_bbef[i] - 2*v_bef[i]) - v_cur[i+2] + 4*v_cur[i+1] + 4*v_cur[i-1] - v_cur[i-2])/(6+((a[i]/(tstep**2))+((b[i]/(tstep**2)))))\n",
    "\n",
    "        i += 1\n",
    "    v_bbef = v_bef[:] #copy v_bef to v_bbef\n",
    "    v_bef = v_cur[:] #copy v_cur to v_bef\n",
    "    if n != len(data):\n",
    "        data[n] = max(v_cur)\n",
    "    n += 1\n",
    "    t += tstep"
   ]
  },
  {
   "cell_type": "code",
   "execution_count": 1395,
   "id": "609a974b",
   "metadata": {},
   "outputs": [
    {
     "data": {
      "text/plain": [
       "[<matplotlib.lines.Line2D at 0x21ce4535280>]"
      ]
     },
     "execution_count": 1395,
     "metadata": {},
     "output_type": "execute_result"
    },
    {
     "data": {
      "image/png": "[encoded data removed]",
      "text/plain": [
       "<Figure size 432x288 with 1 Axes>"
      ]
     },
     "metadata": {
      "needs_background": "light"
     },
     "output_type": "display_data"
    }
   ],
   "source": [
    "\n",
    "plt.plot(t_array,data)\n"
   ]
  },
  {
   "cell_type": "code",
   "execution_count": 1396,
   "id": "e2fd9e82",
   "metadata": {},
   "outputs": [
    {
     "data": {
      "text/plain": [
       "[<matplotlib.lines.Line2D at 0x21ce4595220>]"
      ]
     },
     "execution_count": 1396,
     "metadata": {},
     "output_type": "execute_result"
    },
    {
     "data": {
      "image/png": "[encoded data removed]",
      "text/plain": [
       "<Figure size 432x288 with 1 Axes>"
      ]
     },
     "metadata": {
      "needs_background": "light"
     },
     "output_type": "display_data"
    }
   ],
   "source": [
    "plt.plot(np.arange(0,n_e,1, dtype = \"int\"),v_cur)"
   ]
  },
  {
   "cell_type": "code",
   "execution_count": null,
   "id": "973eda2b",
   "metadata": {},
   "outputs": [],
   "source": []
  },
  {
   "cell_type": "code",
   "execution_count": null,
   "id": "456db44c",
   "metadata": {},
   "outputs": [],
   "source": []
  }
 ],
 "metadata": {
  "kernelspec": {
   "display_name": "Python 3 (ipykernel)",
   "language": "python",
   "name": "python3"
  },
  "language_info": {
   "codemirror_mode": {
    "name": "ipython",
    "version": 3
   },
   "file_extension": ".py",
   "mimetype": "text/x-python",
   "name": "python",
   "nbconvert_exporter": "python",
   "pygments_lexer": "ipython3",
   "version": "3.9.7"
  }
 },
 "nbformat": 4,
 "nbformat_minor": 5
}
